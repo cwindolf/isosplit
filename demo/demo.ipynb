{
 "cells": [
  {
   "cell_type": "code",
   "execution_count": 1,
   "id": "9284a0a0",
   "metadata": {},
   "outputs": [],
   "source": [
    "%load_ext autoreload\n",
    "%autoreload 2"
   ]
  },
  {
   "cell_type": "code",
   "execution_count": 2,
   "id": "87ffc0dc",
   "metadata": {},
   "outputs": [],
   "source": [
    "import numpy as np\n",
    "import matplotlib.pyplot as plt"
   ]
  },
  {
   "cell_type": "code",
   "execution_count": 3,
   "id": "9fbcf907",
   "metadata": {},
   "outputs": [],
   "source": [
    "plt.rc(\"figure\", dpi=200)"
   ]
  },
  {
   "cell_type": "code",
   "execution_count": 4,
   "id": "bbd51829",
   "metadata": {},
   "outputs": [],
   "source": [
    "rg = np.random.default_rng(0)"
   ]
  },
  {
   "cell_type": "code",
   "execution_count": 6,
   "id": "8d970255",
   "metadata": {},
   "outputs": [],
   "source": [
    "import isosplit"
   ]
  },
  {
   "cell_type": "code",
   "execution_count": null,
   "id": "7a68793f",
   "metadata": {},
   "outputs": [],
   "source": [
    "# the test from `run_test` -- trivial 2d test\n",
    "X1 = rg.normal(loc=[[0], [0]], size=(2, 400))\n",
    "X2 = rg.normal(loc=[[4], [4]], size=(2, 400))\n",
    "X3 = rg.normal(loc=[[8], [0]], size=(2, 400))\n",
    "X = np.hstack([X1, X2, X3])"
   ]
  },
  {
   "cell_type": "code",
   "execution_count": null,
   "id": "8f929b22",
   "metadata": {},
   "outputs": [],
   "source": [
    "labels = isosplit.isosplit5(X, K_init=10, max_iterations_per_pass=10000)"
   ]
  },
  {
   "cell_type": "code",
   "execution_count": null,
   "id": "8ed8343f",
   "metadata": {},
   "outputs": [],
   "source": []
  }
 ],
 "metadata": {
  "kernelspec": {
   "display_name": "Python 3",
   "language": "python",
   "name": "python3"
  },
  "language_info": {
   "codemirror_mode": {
    "name": "ipython",
    "version": 3
   },
   "file_extension": ".py",
   "mimetype": "text/x-python",
   "name": "python",
   "nbconvert_exporter": "python",
   "pygments_lexer": "ipython3",
   "version": "3.8.8"
  }
 },
 "nbformat": 4,
 "nbformat_minor": 5
}
