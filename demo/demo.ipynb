{
 "cells": [
  {
   "cell_type": "code",
   "execution_count": 1,
   "id": "6df113a0",
   "metadata": {},
   "outputs": [],
   "source": [
    "%load_ext autoreload\n",
    "%autoreload 2"
   ]
  },
  {
   "cell_type": "code",
   "execution_count": 2,
   "id": "b0e5e6bb",
   "metadata": {},
   "outputs": [],
   "source": [
    "import numpy as np\n",
    "import matplotlib.pyplot as plt"
   ]
  },
  {
   "cell_type": "code",
   "execution_count": 3,
   "id": "fda67d0a",
   "metadata": {},
   "outputs": [],
   "source": [
    "plt.rc(\"figure\", dpi=200)"
   ]
  },
  {
   "cell_type": "code",
   "execution_count": 4,
   "id": "90b953ce",
   "metadata": {},
   "outputs": [],
   "source": [
    "rg = np.random.default_rng(0)"
   ]
  },
  {
   "cell_type": "code",
   "execution_count": 6,
   "id": "1bfd3d2b",
   "metadata": {},
   "outputs": [],
   "source": [
    "import isosplit"
   ]
  },
  {
   "cell_type": "code",
   "execution_count": 7,
   "id": "0435593b",
   "metadata": {},
   "outputs": [],
   "source": [
    "# the test from `run_test` -- trivial 2d test\n",
    "X1 = rg.normal(loc=[[0], [0]], size=(2, 400))\n",
    "X2 = rg.normal(loc=[[4], [4]], size=(2, 400))\n",
    "X3 = rg.normal(loc=[[8], [0]], size=(2, 400))\n",
    "X = np.hstack([X1, X2, X3])"
   ]
  },
  {
   "cell_type": "code",
   "execution_count": 9,
   "id": "94ed5bfd",
   "metadata": {},
   "outputs": [
    {
     "name": "stdout",
     "output_type": "stream",
     "text": [
      "parcelate got 11 parcels\n"
     ]
    },
    {
     "ename": "ValueError",
     "evalue": "max iterations per pass exceeded",
     "output_type": "error",
     "traceback": [
      "\u001b[0;31m---------------------------------------------------------------------------\u001b[0m",
      "\u001b[0;31mValueError\u001b[0m                                Traceback (most recent call last)",
      "\u001b[0;32m<ipython-input-9-39bf0be03479>\u001b[0m in \u001b[0;36m<module>\u001b[0;34m\u001b[0m\n\u001b[0;32m----> 1\u001b[0;31m \u001b[0mlabels\u001b[0m \u001b[0;34m=\u001b[0m \u001b[0misosplit\u001b[0m\u001b[0;34m.\u001b[0m\u001b[0misosplit5\u001b[0m\u001b[0;34m(\u001b[0m\u001b[0mX\u001b[0m\u001b[0;34m,\u001b[0m \u001b[0mK_init\u001b[0m\u001b[0;34m=\u001b[0m\u001b[0;36m10\u001b[0m\u001b[0;34m)\u001b[0m\u001b[0;34m\u001b[0m\u001b[0;34m\u001b[0m\u001b[0m\n\u001b[0m",
      "\u001b[0;32m~/Desktop/projects/isosplit/isosplit/isosplit5.py\u001b[0m in \u001b[0;36misosplit5\u001b[0;34m(X, isocut_threshold, min_cluster_size, K_init, refine_clusters, max_iterations_per_pass, whiten_cluster_pairs, initial_labels, prevent_merge, one_comparison_at_a_time)\u001b[0m\n\u001b[1;32m    217\u001b[0m             \u001b[0miteration\u001b[0m \u001b[0;34m+=\u001b[0m \u001b[0;36m1\u001b[0m\u001b[0;34m\u001b[0m\u001b[0;34m\u001b[0m\u001b[0m\n\u001b[1;32m    218\u001b[0m             \u001b[0;32mif\u001b[0m \u001b[0miteration\u001b[0m \u001b[0;34m>\u001b[0m \u001b[0mmax_iterations_per_pass\u001b[0m\u001b[0;34m:\u001b[0m\u001b[0;34m\u001b[0m\u001b[0;34m\u001b[0m\u001b[0m\n\u001b[0;32m--> 219\u001b[0;31m                 \u001b[0;32mraise\u001b[0m \u001b[0mValueError\u001b[0m\u001b[0;34m(\u001b[0m\u001b[0;34m\"max iterations per pass exceeded\"\u001b[0m\u001b[0;34m)\u001b[0m\u001b[0;34m\u001b[0m\u001b[0;34m\u001b[0m\u001b[0m\n\u001b[0m\u001b[1;32m    220\u001b[0m \u001b[0;34m\u001b[0m\u001b[0m\n\u001b[1;32m    221\u001b[0m             \u001b[0;31m# active labels are those which are still being used\u001b[0m\u001b[0;34m\u001b[0m\u001b[0;34m\u001b[0m\u001b[0;34m\u001b[0m\u001b[0m\n",
      "\u001b[0;31mValueError\u001b[0m: max iterations per pass exceeded"
     ]
    }
   ],
   "source": [
    "labels = isosplit.isosplit5(X, K_init=10)"
   ]
  },
  {
   "cell_type": "code",
   "execution_count": null,
   "id": "7f9fbc72",
   "metadata": {},
   "outputs": [],
   "source": []
  }
 ],
 "metadata": {
  "kernelspec": {
   "display_name": "Python 3",
   "language": "python",
   "name": "python3"
  },
  "language_info": {
   "codemirror_mode": {
    "name": "ipython",
    "version": 3
   },
   "file_extension": ".py",
   "mimetype": "text/x-python",
   "name": "python",
   "nbconvert_exporter": "python",
   "pygments_lexer": "ipython3",
   "version": "3.8.8"
  }
 },
 "nbformat": 4,
 "nbformat_minor": 5
}
